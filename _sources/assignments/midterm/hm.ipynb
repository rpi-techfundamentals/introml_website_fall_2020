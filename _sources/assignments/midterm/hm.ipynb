{
 "cells": [
  {
   "cell_type": "markdown",
   "metadata": {
    "id": "0sVgU84dbDxJ"
   },
   "source": [
    "# Midterm - Correction\n",
    "\n",
    "We are going to go over the Midter in class Thursday.  To prepare, please try the grading code by adding to the bottom of your notebook.  Try and understand and correct what you missed so you can pay extra attention when you go over that part.   \n",
    "\n",
    "Feel free to post questions to Webex Teams.  You are also allowed to ask questions of others for the homeowork.  However, all the work has to be yours. \n",
    "\n"
   ]
  },
  {
   "cell_type": "code",
   "execution_count": null,
   "metadata": {},
   "outputs": [],
   "source": [
    "files = \"https://github.com/rpi-techfundamentals/introml_website_fall_2020/raw/master/files/midterm.zip\" \n",
    "!pip install otter-grader && wget $files && unzip -o midterm.zip"
   ]
  },
  {
   "cell_type": "code",
   "execution_count": null,
   "metadata": {
    "id": "ScRhUOI2EpQ_"
   },
   "outputs": [],
   "source": [
    "#This runs all tests. \n",
    "import otter\n",
    "grader = otter.Notebook()\n",
    "grader.check_all()"
   ]
  }
 ],
 "metadata": {
  "colab": {
   "collapsed_sections": [],
   "name": "studentpca.ipynb",
   "provenance": []
  },
  "kernelspec": {
   "display_name": "Python 3",
   "language": "python",
   "name": "python3"
  },
  "language_info": {
   "codemirror_mode": {
    "name": "ipython",
    "version": 3
   },
   "file_extension": ".py",
   "mimetype": "text/x-python",
   "name": "python",
   "nbconvert_exporter": "python",
   "pygments_lexer": "ipython3",
   "version": "3.7.6"
  },
  "nteract": {
   "version": "0.12.3"
  }
 },
 "nbformat": 4,
 "nbformat_minor": 4
}
