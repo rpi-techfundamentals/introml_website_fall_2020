{
 "cells": [
  {
   "cell_type": "markdown",
   "metadata": {
    "colab_type": "text",
    "id": "6D6hhu22R6bj"
   },
   "source": [
    "# Evaluation of Classifiers\n",
    "Let's assume we have 2 different images, and the output for the second to last layer is the following.  The job of the final layer is to \"squish\" whatever comes out of the neural network. We are going to look at the differences between a sigmoid and a softmax.\n",
    "\n",
    "\n",
    "```\n",
    "          img1    img2\n",
    "cat\t      0.02    -1.42\n",
    "dog\t     -2.49    -3.93\n",
    "plane\t   -1.75    -3.19\n",
    "fish\t    2.07     0.63\n",
    "building\t1.25    -0.19\n",
    "```"
   ]
  },
  {
   "cell_type": "code",
   "execution_count": 0,
   "metadata": {
    "colab": {},
    "colab_type": "code",
    "id": "JvyFGldfaFak"
   },
   "outputs": [],
   "source": [
    "#Let's import some values\n",
    "import torch\n",
    "import torch.nn.functional as F\n",
    "import torch.nn as nn"
   ]
  },
  {
   "cell_type": "code",
   "execution_count": 2,
   "metadata": {
    "colab": {
     "base_uri": "https://localhost:8080/",
     "height": 72
    },
    "colab_type": "code",
    "id": "UV32uQ7X_g0F",
    "outputId": "e5235371-069f-4864-f652-439a0e8cf13b"
   },
   "outputs": [
    {
     "data": {
      "text/plain": [
       "tensor([[ 0.0200, -2.4900, -1.7500,  2.0700,  1.2500],\n",
       "        [-1.4200, -3.9300, -3.1900,  0.6300, -0.1900]])"
      ]
     },
     "execution_count": 2,
     "metadata": {
      "tags": []
     },
     "output_type": "execute_result"
    }
   ],
   "source": [
    "#Let's put the data into a tensor\n",
    "predictions = torch.tensor([[0.02, -2.49, -1.75, 2.07, 1.25],\n",
    "                           [-1.42, -3.93, -3.19, 0.63, -0.19]])\n",
    "predictions"
   ]
  },
  {
   "cell_type": "markdown",
   "metadata": {
    "colab_type": "text",
    "id": "Spdo2oXw2k6H"
   },
   "source": [
    "###  Softmax\n",
    "A softmax assumes that here that classes are exclusive and probabilities add to 1. \n",
    "\n",
    "$softmax(x)_i = \\frac{exp(x_i)}{\\sum_{j}^{ }exp(x_j))}$\n",
    "\n",
    "*Check out the excel notebook and you should see that you get the same values. Note that even though the inputs for the softmax are different, they yield the same probability estimates for each class.*"
   ]
  },
  {
   "cell_type": "code",
   "execution_count": 3,
   "metadata": {
    "colab": {
     "base_uri": "https://localhost:8080/",
     "height": 72
    },
    "colab_type": "code",
    "id": "TPNMRPO5SUa1",
    "outputId": "d56bf324-5d06-4dc0-9b95-9f5cc0404ce7"
   },
   "outputs": [
    {
     "data": {
      "text/plain": [
       "tensor([[0.0804, 0.0065, 0.0137, 0.6244, 0.2750],\n",
       "        [0.0804, 0.0065, 0.0137, 0.6244, 0.2750]])"
      ]
     },
     "execution_count": 3,
     "metadata": {
      "tags": []
     },
     "output_type": "execute_result"
    }
   ],
   "source": [
    "\n",
    "#Here we have to create the softmax layer and then pass the layers to it. \n",
    "my_softmax_layer = nn.Softmax(dim=1) #here we have to create the softmax layer and then \n",
    "softmax=my_softmax_layer(predictions)\n",
    "softmax\n"
   ]
  },
  {
   "cell_type": "markdown",
   "metadata": {
    "colab_type": "text",
    "id": "RFYW56f8Sdj9"
   },
   "source": [
    "###  Sigmoid \n",
    "This is used for binary classification as a final layer.  For each of the potential classes, the prediction is weighted to a 0/1 without considering the other classes.  This would be appropriate for the case where there could be multiple classes (for example a cat and a dog) in the image.\n",
    "\n",
    "$S(x)={\\frac {1}{1+e^{-x}}}={\\frac {e^{x}}{e^{x}+1}}$\n",
    "\n",
    "*Check out the excel spreadsheet.*\n"
   ]
  },
  {
   "cell_type": "code",
   "execution_count": 4,
   "metadata": {
    "colab": {
     "base_uri": "https://localhost:8080/",
     "height": 72
    },
    "colab_type": "code",
    "id": "w2Y7HCl-SYzs",
    "outputId": "99fe6ad8-8d73-400c-8d6a-e0094d02fde2"
   },
   "outputs": [
    {
     "data": {
      "text/plain": [
       "tensor([[0.5050, 0.0766, 0.1480, 0.8880, 0.7773],\n",
       "        [0.1947, 0.0193, 0.0395, 0.6525, 0.4526]])"
      ]
     },
     "execution_count": 4,
     "metadata": {
      "tags": []
     },
     "output_type": "execute_result"
    }
   ],
   "source": [
    "sigmoid=torch.sigmoid(predictions)\n",
    "sigmoid"
   ]
  },
  {
   "cell_type": "markdown",
   "metadata": {
    "colab_type": "text",
    "id": "s9_Ex3ZtYlGD"
   },
   "source": [
    "###  Evaluating the Results\n",
    "Note that for the 2 examples, the resulting probabilities were the same.  \n",
    "\n",
    "However, note that the negative values for the final layer predictions suggest that maybe there are multiple items in image one and maybe just a fish in image 2.\n",
    "\n",
    "*MEAN SQUARED ERROR (MSE)*\n",
    "\n",
    "${MSE} ={\\frac {1}{n}}\\sum _{i=1}^{n}(Y_{i}-{\\hat {Y_{i}}})^{2}$"
   ]
  },
  {
   "cell_type": "code",
   "execution_count": 52,
   "metadata": {
    "colab": {
     "base_uri": "https://localhost:8080/",
     "height": 55
    },
    "colab_type": "code",
    "id": "PttmBqk1Or6Z",
    "outputId": "f45a43d3-2e32-418e-d800-f37d5adb3e6e"
   },
   "outputs": [
    {
     "name": "stdout",
     "output_type": "stream",
     "text": [
      "mse tensor(0.1486, grad_fn=<MseLossBackward>)\n"
     ]
    }
   ],
   "source": [
    "predictions = torch.tensor([[0.02, -2.49, -1.75, 2.07, 1.25],\n",
    "                           [-1.42, -3.93, -3.19, 0.63, -0.19]], requires_grad=True)\n",
    "truth = torch.tensor([[0.0, 0.0, 0.0, 0.0, 1.0],\n",
    "                      [0.0, 0.0, 0.0, 1.0, 0.0]], requires_grad=False)\n",
    "\n",
    "mse_loss=F.mse_loss(torch.sigmoid(predictions), truth )\n",
    "print( \"mse\", mse_loss)\n"
   ]
  },
  {
   "cell_type": "markdown",
   "metadata": {
    "colab_type": "text",
    "id": "Sn0Ve1dR5AHq"
   },
   "source": [
    "###  Exercise\n",
    "\n",
    "  \n",
    "1. Evaluate the loss function (MSE) for the softmax output.\n",
    "\n",
    "2. Change the truth as well as the predictions above and notice the impact on the loss."
   ]
  },
  {
   "cell_type": "markdown",
   "metadata": {
    "colab_type": "text",
    "id": "JeIizUdHVIj_"
   },
   "source": [
    "This exercise was adopted from the Fast.ai example. "
   ]
  }
 ],
 "metadata": {
  "colab": {
   "collapsed_sections": [],
   "name": "evaluation.ipynb",
   "provenance": []
  },
  "kernelspec": {
   "display_name": "Python 3",
   "language": "python",
   "name": "python3"
  },
  "language_info": {
   "codemirror_mode": {
    "name": "ipython",
    "version": 3
   },
   "file_extension": ".py",
   "mimetype": "text/x-python",
   "name": "python",
   "nbconvert_exporter": "python",
   "pygments_lexer": "ipython3",
   "version": "3.7.6"
  }
 },
 "nbformat": 4,
 "nbformat_minor": 1
}