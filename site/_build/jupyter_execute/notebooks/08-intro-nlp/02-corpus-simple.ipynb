{
 "cells": [
  {
   "cell_type": "markdown",
   "metadata": {
    "colab_type": "text",
    "id": "0S96dkjmRR_j"
   },
   "source": [
    "[![AnalyticsDojo](https://github.com/rpi-techfundamentals/spring2019-materials/blob/master/fig/final-logo.png?raw=1)](http://rpi.analyticsdojo.com)\n",
    "<center><h1>Introduction to Text Mining in Python</h1></center>\n",
    "<center><h3><a href = 'http://rpi.analyticsdojo.com'>rpi.analyticsdojo.com</a></h3></center>"
   ]
  },
  {
   "cell_type": "markdown",
   "metadata": {},
   "source": [
    "# Introduction to Text Mining in Python"
   ]
  },
  {
   "cell_type": "markdown",
   "metadata": {
    "colab_type": "text",
    "id": "Cqiaxyr8RJ-7"
   },
   "source": [
    "\n",
    "These exercises were adapted from Mining the Social Web, 2nd Edition [See origional here](https://github.com/ptwobrussell/Mining-the-Social-Web-2nd-Edition/) \n",
    "Simplified BSD License that governs its use.\n"
   ]
  },
  {
   "cell_type": "markdown",
   "metadata": {
    "colab_type": "text",
    "id": "5v9HdaIKRJ-9"
   },
   "source": [
    "### Key Terms for Text Mining\n",
    "- A collection of documents –  corpus\n",
    "- Document – a piece of text \n",
    "- Terms/tokens – a word in a document\n",
    "- Entity – Some type of person, place, or organization\n"
   ]
  },
  {
   "cell_type": "code",
   "execution_count": 1,
   "metadata": {
    "colab": {
     "base_uri": "https://localhost:8080/",
     "height": 812
    },
    "colab_type": "code",
    "id": "yXoFPKuRRJ-_",
    "outputId": "a42537d1-fda0-4b6c-ad45-c5818e2583b7"
   },
   "outputs": [
    {
     "data": {
      "text/plain": [
       "{'a': ['mr.',\n",
       "  'green',\n",
       "  'killed',\n",
       "  'colonel',\n",
       "  'mustard',\n",
       "  'in',\n",
       "  'the',\n",
       "  'study',\n",
       "  'with',\n",
       "  'the',\n",
       "  'candlestick.',\n",
       "  'mr.',\n",
       "  'green',\n",
       "  'is',\n",
       "  'not',\n",
       "  'a',\n",
       "  'very',\n",
       "  'nice',\n",
       "  'fellow.'],\n",
       " 'b': ['professor',\n",
       "  'plum',\n",
       "  'has',\n",
       "  'a',\n",
       "  'green',\n",
       "  'plant',\n",
       "  'in',\n",
       "  'his',\n",
       "  'study.'],\n",
       " 'c': ['miss',\n",
       "  'scarlett',\n",
       "  'watered',\n",
       "  'professor',\n",
       "  \"plum's\",\n",
       "  'green',\n",
       "  'plant',\n",
       "  'while',\n",
       "  'he',\n",
       "  'was',\n",
       "  'away',\n",
       "  'from',\n",
       "  'his',\n",
       "  'office',\n",
       "  'last',\n",
       "  'week.']}"
      ]
     },
     "execution_count": 1,
     "metadata": {
      "tags": []
     },
     "output_type": "execute_result"
    }
   ],
   "source": [
    " corpus = { \n",
    " 'a' : \"Mr. Green killed Colonel Mustard in the study with the candlestick. \\\n",
    "Mr. Green is not a very nice fellow.\",\n",
    " 'b' : \"Professor Plum has a green plant in his study.\",\n",
    " 'c' : \"Miss Scarlett watered Professor Plum's green plant while he was away \\\n",
    "from his office last week.\"\n",
    "}\n",
    "\n",
    "#This will separate the documents (sentences) into terms/tokins/words.\n",
    "terms = {\n",
    " 'a' : [ i.lower() for i in corpus['a'].split() ],\n",
    " 'b' : [ i.lower() for i in corpus['b'].split() ],\n",
    " 'c' : [ i.lower() for i in corpus['c'].split() ]\n",
    " }\n",
    "terms"
   ]
  },
  {
   "cell_type": "markdown",
   "metadata": {
    "colab_type": "text",
    "id": "DCv3qrYmRJ_P"
   },
   "source": [
    "### Term Frequency\n",
    "- A very common factor is to determine how frequently a word or term occurs with a document. \n",
    "- This is how early web search engines worked. (Not very well).\n",
    "- A common basic standarization method is to control for the number of words in the document.\n"
   ]
  },
  {
   "cell_type": "code",
   "execution_count": null,
   "metadata": {
    "colab": {},
    "colab_type": "code",
    "id": "uWYPzCUjRJ_S"
   },
   "outputs": [],
   "source": [
    "from math import log\n",
    "\n",
    "#This is our terms we would like to use.\n",
    "QUERY_TERMS = ['mr.', 'green']\n",
    "\n",
    "#This calculates the term frequency normalized by the length.\n",
    "def tf(term, doc, normalize):\n",
    "    doc = doc.lower().split()\n",
    "    if normalize:\n",
    "        return doc.count(term.lower()) / float(len(doc))\n",
    "    else:\n",
    "        return doc.count(term.lower()) / 1.0\n",
    " "
   ]
  },
  {
   "cell_type": "code",
   "execution_count": 3,
   "metadata": {
    "colab": {
     "base_uri": "https://localhost:8080/",
     "height": 133
    },
    "colab_type": "code",
    "id": "7loOhwuHRJ_Y",
    "outputId": "ca94cbbe-0741-44fd-dfd7-c25531e9a48a"
   },
   "outputs": [
    {
     "name": "stdout",
     "output_type": "stream",
     "text": [
      "a : Mr. Green killed Colonel Mustard in the study with the candlestick. Mr. Green is not a very nice fellow.\n",
      "b : Professor Plum has a green plant in his study.\n",
      "c : Miss Scarlett watered Professor Plum's green plant while he was away from his office last week.\n",
      "\n",
      "\n"
     ]
    }
   ],
   "source": [
    "#This prints the basic documents. We can see that Mr. Green is in the first document.\n",
    "for (k, v) in sorted(corpus.items()):\n",
    "    print (k, ':', v)\n",
    "print('\\n')\n",
    "    "
   ]
  },
  {
   "cell_type": "code",
   "execution_count": 4,
   "metadata": {
    "colab": {
     "base_uri": "https://localhost:8080/",
     "height": 301
    },
    "colab_type": "code",
    "id": "xWpeMzguRJ_i",
    "outputId": "96e9797d-2fb9-45f8-9025-30940d186c1a"
   },
   "outputs": [
    {
     "name": "stdout",
     "output_type": "stream",
     "text": [
      "TF(a): mr. 0.10526315789473684\n",
      "TF(b): mr. 0.0\n",
      "TF(c): mr. 0.0\n",
      "TF(a): green 0.10526315789473684\n",
      "TF(b): green 0.1111111111111111\n",
      "TF(c): green 0.0625\n",
      "\n",
      "\n",
      "This does the same thing but unnormalized.\n",
      "TF(a): mr. 2.0\n",
      "TF(b): mr. 0.0\n",
      "TF(c): mr. 0.0\n",
      "TF(a): green 2.0\n",
      "TF(b): green 1.0\n",
      "TF(c): green 1.0\n"
     ]
    }
   ],
   "source": [
    "# Score queries by calculating cumulative tf (normalized and unnormalized).\n",
    "query_scores = {'a': 0, 'b': 0, 'c': 0}\n",
    "\n",
    "#This starts the search for each query\n",
    "for term in [t.lower() for t in QUERY_TERMS]:\n",
    "    #This starts the search for each document in the corpus\n",
    "    for doc in sorted(corpus):\n",
    "        print ('TF(%s): %s' % (doc, term), tf(term, corpus[doc], True))\n",
    "        \n",
    "print('\\n')   #Let's skip a line.     \n",
    "print (\"This does the same thing but unnormalized.\")\n",
    "for term in [t.lower() for t in QUERY_TERMS]:\n",
    "    #This starts the search for each document in the corpus\n",
    "    for doc in sorted(corpus):\n",
    "        print ('TF(%s): %s' % (doc, term), tf(term, corpus[doc], False))"
   ]
  },
  {
   "cell_type": "markdown",
   "metadata": {
    "colab_type": "text",
    "id": "amnZbUC3RJ_o"
   },
   "source": [
    "### TF-IDF\n",
    "- TF-IDF incorporates the inverse document frequency in the analysis.  This type of factor would limit the impact of *frequent words* that would show up in a large number of documents.  \n",
    "- The tf-idf calc involves multiplying against a tf value less than 0, so it's necessary to return a value greater than 1 for consistent scoring. (Multiplying two values less than 1 returns a value less than each of them.)"
   ]
  },
  {
   "cell_type": "code",
   "execution_count": 5,
   "metadata": {
    "colab": {
     "base_uri": "https://localhost:8080/",
     "height": 72
    },
    "colab_type": "code",
    "id": "cKuRv-nuRJ_p",
    "outputId": "02459252-f9c6-4a7f-f7f5-56f9ed884ab4"
   },
   "outputs": [
    {
     "name": "stdout",
     "output_type": "stream",
     "text": [
      "IDF: mr. 2.09861228866811\n",
      "IDF: green 1.0\n"
     ]
    }
   ],
   "source": [
    "def idf(term, corpus):\n",
    "    \n",
    "    num_texts_with_term = len([True for text in corpus if term.lower()\n",
    "                              in text.lower().split()])\n",
    "    try:\n",
    "        return 1.0 + log(float(len(corpus)) / num_texts_with_term)\n",
    "    except ZeroDivisionError:\n",
    "        return 1.0\n",
    "\n",
    "    \n",
    "for term in [t.lower() for t in QUERY_TERMS]:\n",
    "        print ('IDF: %s' % (term, ), idf(term, corpus.values()))\n",
    "        \n",
    "\n",
    "\n"
   ]
  },
  {
   "cell_type": "code",
   "execution_count": 6,
   "metadata": {
    "colab": {
     "base_uri": "https://localhost:8080/",
     "height": 636
    },
    "colab_type": "code",
    "id": "n3EAJ-gXRJ_v",
    "outputId": "a773c3f1-4280-4e04-886b-9df89d0aac43"
   },
   "outputs": [
    {
     "name": "stdout",
     "output_type": "stream",
     "text": [
      "TF(a): mr. 0.10526315789473684\n",
      "TF(b): mr. 0.0\n",
      "TF(c): mr. 0.0\n",
      "IDF: mr. 2.09861228866811\n",
      "\n",
      "\n",
      "TF-IDF(a): mr. 0.22090655670190631\n",
      "\n",
      "\n",
      "TF-IDF(b): mr. 0.0\n",
      "\n",
      "\n",
      "TF-IDF(c): mr. 0.0\n",
      "\n",
      "\n",
      "TF(a): green 0.10526315789473684\n",
      "TF(b): green 0.1111111111111111\n",
      "TF(c): green 0.0625\n",
      "IDF: green 1.0\n",
      "\n",
      "\n",
      "TF-IDF(a): green 0.10526315789473684\n",
      "\n",
      "\n",
      "TF-IDF(b): green 0.1111111111111111\n",
      "\n",
      "\n",
      "TF-IDF(c): green 0.0625\n",
      "\n",
      "\n",
      "Overall TF-IDF scores for query 'mr. green'\n",
      "a 0.3261697145966431\n",
      "b 0.1111111111111111\n",
      "c 0.0625\n"
     ]
    }
   ],
   "source": [
    "\n",
    "#TF-IDF Just multiplies the two together\n",
    "def tf_idf(term, doc, corpus):\n",
    "    return tf(term, doc, True) * idf(term, corpus)\n",
    "\n",
    "query_scores = {'a': 0, 'b': 0, 'c': 0}\n",
    "for term in [t.lower() for t in QUERY_TERMS]:\n",
    "    for doc in sorted(corpus):\n",
    "        print ('TF(%s): %s' % (doc, term), tf(term, corpus[doc], True))\n",
    "    print ('IDF: %s' % (term, ), idf(term, corpus.values()))\n",
    "    print('\\n')\n",
    "\n",
    "    for doc in sorted(corpus):\n",
    "        score = tf_idf(term, corpus[doc], corpus.values())\n",
    "        print ('TF-IDF(%s): %s' % (doc, term), score)\n",
    "        query_scores[doc] += score\n",
    "        print('\\n')\n",
    "\n",
    "print (\"Overall TF-IDF scores for query '%s'\" % (' '.join(QUERY_TERMS), ))\n",
    "for (doc, score) in sorted(query_scores.items()):\n",
    "    print (doc, score)"
   ]
  },
  {
   "cell_type": "code",
   "execution_count": null,
   "metadata": {
    "colab": {},
    "colab_type": "code",
    "id": "JgzEv5DoRJ_2"
   },
   "outputs": [],
   "source": []
  },
  {
   "cell_type": "code",
   "execution_count": null,
   "metadata": {
    "colab": {},
    "colab_type": "code",
    "id": "0B1_bACORJ_4"
   },
   "outputs": [],
   "source": []
  }
 ],
 "metadata": {
  "colab": {
   "name": "02-corpus-simple.ipynb",
   "provenance": [],
   "version": "0.3.2"
  },
  "kernelspec": {
   "display_name": "Python 3",
   "language": "python",
   "name": "python3"
  },
  "language_info": {
   "codemirror_mode": {
    "name": "ipython",
    "version": 3
   },
   "file_extension": ".py",
   "mimetype": "text/x-python",
   "name": "python",
   "nbconvert_exporter": "python",
   "pygments_lexer": "ipython3",
   "version": "3.7.6"
  }
 },
 "nbformat": 4,
 "nbformat_minor": 4
}