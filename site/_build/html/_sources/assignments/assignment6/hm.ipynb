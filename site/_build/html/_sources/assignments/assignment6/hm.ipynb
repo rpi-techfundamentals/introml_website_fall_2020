{
 "cells": [
  {
   "cell_type": "markdown",
   "metadata": {
    "id": "0sVgU84dbDxJ"
   },
   "source": [
    "## Homework - Instructions\n",
    "\n",
    "![](https://github.com/rpi-techfundamentals/hm-01-starter/blob/master/notsaved.png?raw=1)\n",
    "\n",
    "**WARNING!!!  If you see this icon on the top of your COLAB sesssion, your work is not saved automatically.**\n",
    "\n",
    "\n",
    "**When you are working on homeworks, make sure that you save often. You may find it easier to save intermident copies in Google drive. If you save your working file in Google drive all changes will be saved as you work. MAKE SURE that your final version is saved to GitHub.** \n",
    "\n",
    "Before you turn this problem in, make sure everything runs as expected. First, restart the kernel (in the menubar, select Kernel → Restart) and then run all cells (in the menubar, select Cell → Run All).  You can speak with others regarding the assignment but all work must be your own. \n",
    "\n",
    "\n",
    "### This is a 30 point assignment graded from answers to questions and automated tests that should be run at the bottom. Be sure to clearly label all of your answers and commit final tests at the end.  "
   ]
  },
  {
   "cell_type": "code",
   "execution_count": null,
   "metadata": {},
   "outputs": [],
   "source": [
    "files = \"https://github.com/rpi-techfundamentals/introml_website_fall_2020/raw/master/files/assignment6.zip\" \n",
    "!pip install otter-grader && wget $files && unzip -o assignment6.zip"
   ]
  },
  {
   "cell_type": "markdown",
   "metadata": {
    "id": "3Y19n7hxbDxf"
   },
   "source": [
    "### Load Data\n",
    "Here we have 2 files. One we will use for PCA and the other for cluster analysis. \n"
   ]
  },
  {
   "cell_type": "code",
   "execution_count": null,
   "metadata": {
    "id": "cQAhByH7bDxh"
   },
   "outputs": [],
   "source": [
    "# Load the data here\n",
    "import pandas as pd\n",
    "df_cluster  = pd.read_csv(\"cluster.csv\")\n",
    "df_pca  = pd.read_csv(\"pca.csv\")"
   ]
  },
  {
   "cell_type": "markdown",
   "metadata": {
    "id": "oDJKUE3z3htG"
   },
   "source": [
    "## EDA\n",
    "\n",
    "Do some simple exploritory analysis on the data so that you understand the structure of the data. "
   ]
  },
  {
   "cell_type": "code",
   "execution_count": null,
   "metadata": {
    "id": "IQgvTaJY3gR_"
   },
   "outputs": [],
   "source": []
  },
  {
   "cell_type": "markdown",
   "metadata": {
    "id": "8tct7SvxbDxk"
   },
   "source": [
    "### 1. PCA Data Baseline Regression.\n",
    "  On the PCA data, perform a 50/50 train test split with `random state` equal to 99. Predict `y` with all variables using regression analysis. \n",
    "  \n",
    "  1a. Calculate the r2 for train and assign to `pca1_r2_train` \n",
    "  \n",
    "  1b. calculate the r2 for test and assign to `pca1_r2_test`. \n",
    "\n",
    "\n"
   ]
  },
  {
   "cell_type": "code",
   "execution_count": null,
   "metadata": {
    "id": "DOFKMr2oJ6Hq"
   },
   "outputs": [],
   "source": []
  },
  {
   "cell_type": "markdown",
   "metadata": {
    "id": "e5KGKSWaFeQl"
   },
   "source": [
    "### PCA Analysis\n",
    "\n",
    "So you should find that the overall r2 is quite high, but we have a really complex model with 150 predictors. Run PCA with 4, 5, and 6 components. For example, running with 4 components means setting `n_components=4`. \n",
    "\n",
    "* Check out the variance explained from each of the numbers of principal components. When you find taht increasing the number of components only increases the variance explained by a small amount.  * \n",
    "\n",
    "\n",
    "\n"
   ]
  },
  {
   "cell_type": "code",
   "execution_count": null,
   "metadata": {
    "id": "49Hth9V4J7vY"
   },
   "outputs": [],
   "source": []
  },
  {
   "cell_type": "markdown",
   "metadata": {
    "id": "3a7xYdhuFeQq"
   },
   "source": [
    "After experimenting with 4, 5, and 6 components, explain why 5 is the correct number of components."
   ]
  },
  {
   "cell_type": "code",
   "execution_count": null,
   "metadata": {
    "id": "2c63bcZ3FeQq"
   },
   "outputs": [],
   "source": [
    "man1=\"\"\"\n",
    "Answer here\n",
    "\"\"\""
   ]
  },
  {
   "cell_type": "markdown",
   "metadata": {
    "id": "XovzAC3fFeQt"
   },
   "source": [
    "2. Usign just the 5 PCA components as X, perform a 50/50 train test split with `random state` equal to 99. Predict `y` with all variables using regression analysis. \n",
    "\n",
    "2a. Calculate the r2 for train and assign to `pca2_r2_train`.\n",
    "\n",
    "2b. Calculate the r2 for test and assign to `pca2_r2_test`. \n"
   ]
  },
  {
   "cell_type": "code",
   "execution_count": null,
   "metadata": {
    "id": "nfnMb6FTFeQt"
   },
   "outputs": [],
   "source": []
  },
  {
   "cell_type": "markdown",
   "metadata": {
    "id": "CDofK8rqJ7DD"
   },
   "source": [
    "## Challenge Problem: Feature Selection.  \n",
    "While we obtained a decent R2 with PCA, it wasn't as good as had with the origional data.  Rather than dimensionality reduction using principal components, try to use feature selection to get 4 components that explain >99% of the variance. \n",
    "\n",
    "List those features here. "
   ]
  },
  {
   "cell_type": "code",
   "execution_count": null,
   "metadata": {
    "id": "RwaNWvlTJ6QI"
   },
   "outputs": [],
   "source": [
    "man2=\"\"\"\n",
    "Answer here\n",
    "\"\"\""
   ]
  },
  {
   "cell_type": "markdown",
   "metadata": {
    "id": "BK5KOYt6FeQx"
   },
   "source": [
    "### 3. Cluster Data Baseline Regression\n",
    " On the Cluster data, perform a 50/50 train test split with `random state` equal to 99. Predict `y` with all variables using regression analysis. \n",
    " \n",
    "3a.  Calculate the r2 for train and assign to `cluster1_r2_train`. \n",
    "\n",
    "3b. calculate the r2 for test and assign to `cluster1_r2_test`. "
   ]
  },
  {
   "cell_type": "code",
   "execution_count": null,
   "metadata": {
    "id": "7MAnnwonKQVc"
   },
   "outputs": [],
   "source": []
  },
  {
   "cell_type": "markdown",
   "metadata": {
    "id": "Qf5WFv75FeQ4"
   },
   "source": [
    "### KMeans Cluster Analysis\n",
    "\n",
    "Next perform a cluster analysis using ONLY variables that start with `cad0`-`cad9` and specify 6 clusters.  Set random_state to `99` for KMEANS algorithm. Add the variable `df_cluster['cluster']` to the origional dataframe to indicate the cluster membership. \n"
   ]
  },
  {
   "cell_type": "code",
   "execution_count": null,
   "metadata": {
    "id": "2a87N4LaFeQ7"
   },
   "outputs": [],
   "source": []
  },
  {
   "cell_type": "markdown",
   "metadata": {
    "id": "1CDVE_XyFeQ8"
   },
   "source": [
    "### 4. Clusters Continued\n",
    "\n",
    "Then select only rows from df_clusterwhich you have assigned to cluster 1.  For only cluster 1 predict `y` with all variables using regression analysis. \n",
    "\n",
    "4a. Calculate the r2 for train and assign to `cluster2_r2_train`.\n",
    "\n",
    "4b. calculate the r2 for test and assign to `cluster2_r2_test`. Like before set random_state to `99`."
   ]
  },
  {
   "cell_type": "code",
   "execution_count": null,
   "metadata": {
    "id": "1Bwi_kuFFeQ9"
   },
   "outputs": [],
   "source": []
  },
  {
   "cell_type": "code",
   "execution_count": null,
   "metadata": {
    "id": "2bQPc5-8EpQ6"
   },
   "outputs": [],
   "source": []
  },
  {
   "cell_type": "code",
   "execution_count": null,
   "metadata": {
    "id": "ScRhUOI2EpQ_"
   },
   "outputs": [],
   "source": [
    "#This runs all tests. \n",
    "import otter\n",
    "grader = otter.Notebook()\n",
    "grader.check_all()"
   ]
  }
 ],
 "metadata": {
  "colab": {
   "collapsed_sections": [],
   "name": "studentpca.ipynb",
   "provenance": []
  },
  "kernelspec": {
   "display_name": "Python 3",
   "language": "python",
   "name": "python3"
  },
  "language_info": {
   "codemirror_mode": {
    "name": "ipython",
    "version": 3
   },
   "file_extension": ".py",
   "mimetype": "text/x-python",
   "name": "python",
   "nbconvert_exporter": "python",
   "pygments_lexer": "ipython3",
   "version": "3.7.6"
  },
  "nteract": {
   "version": "0.12.3"
  }
 },
 "nbformat": 4,
 "nbformat_minor": 4
}
