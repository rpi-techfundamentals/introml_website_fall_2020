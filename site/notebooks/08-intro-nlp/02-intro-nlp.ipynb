{
 "cells": [
  {
   "cell_type": "markdown",
   "metadata": {
    "colab_type": "text",
    "id": "CS3hWIuJEe9-"
   },
   "source": [
    "# Natural Language Toolkit\n",
    "\n",
    "## Introduction to Natural Language Processing\n",
    "\n",
    "In this workbook, at a high-level we will learn about text tokenization; text normalization such as lowercasing, stemming; part-of-speech tagging; Named entity recognition; Sentiment analysis; Topic modeling; Word embeddings\n",
    "\n",
    "\n",
    "\n"
   ]
  },
  {
   "cell_type": "code",
   "execution_count": null,
   "metadata": {
    "colab": {
     "base_uri": "https://localhost:8080/",
     "height": 170
    },
    "colab_type": "code",
    "id": "TkXwl0p1G6Gl",
    "outputId": "4176369a-1df4-428b-855d-cd758dedf8b6"
   },
   "outputs": [
    {
     "name": "stdout",
     "output_type": "stream",
     "text": [
      "[nltk_data] Downloading package punkt to /root/nltk_data...\n",
      "[nltk_data]   Package punkt is already up-to-date!\n",
      "[nltk_data] Downloading package averaged_perceptron_tagger to\n",
      "[nltk_data]     /root/nltk_data...\n",
      "[nltk_data]   Package averaged_perceptron_tagger is already up-to-\n",
      "[nltk_data]       date!\n",
      "[nltk_data] Downloading package stopwords to /root/nltk_data...\n",
      "[nltk_data]   Unzipping corpora/stopwords.zip.\n"
     ]
    },
    {
     "data": {
      "text/plain": [
       "True"
      ]
     },
     "execution_count": 39,
     "metadata": {
      "tags": []
     },
     "output_type": "execute_result"
    }
   ],
   "source": [
    "####PLEASE EXECUTE THESE COMMANDS BEFORE PROCEEDING####\n",
    "\n",
    "import nltk\n",
    "nltk.download('punkt')\n",
    "nltk.download('averaged_perceptron_tagger')\n",
    "nltk.download('stopwords')"
   ]
  },
  {
   "cell_type": "code",
   "execution_count": null,
   "metadata": {
    "colab": {
     "base_uri": "https://localhost:8080/",
     "height": 68
    },
    "colab_type": "code",
    "id": "L_pNvP0lDAZR",
    "outputId": "c27e5da9-707b-4506-f299-66cd78ebb54e"
   },
   "outputs": [
    {
     "data": {
      "text/plain": [
       "['Hello everyone.',\n",
       " 'Welcome to Intro to Machine Learning Applications.',\n",
       " 'We are now learning important basics of NLP.']"
      ]
     },
     "execution_count": 2,
     "metadata": {
      "tags": []
     },
     "output_type": "execute_result"
    }
   ],
   "source": [
    "#Tokenization -- Text into word tokens; Paragraphs into sentences;\n",
    "from nltk.tokenize import sent_tokenize \n",
    "  \n",
    "text = \"Hello everyone. Welcome to Intro to Machine Learning Applications. We are now learning important basics of NLP.\"\n",
    "sent_tokenize(text) \n",
    "\n"
   ]
  },
  {
   "cell_type": "code",
   "execution_count": null,
   "metadata": {
    "colab": {},
    "colab_type": "code",
    "id": "pqkXKzNOG_CP"
   },
   "outputs": [],
   "source": [
    "import nltk.data \n",
    "  \n",
    "german_tokenizer = nltk.data.load('tokenizers/punkt/PY3/german.pickle') \n",
    "  \n",
    "text = 'Wie geht es Ihnen? Mir geht es gut.'\n",
    "german_tokenizer.tokenize(text) \n"
   ]
  },
  {
   "cell_type": "code",
   "execution_count": null,
   "metadata": {
    "colab": {},
    "colab_type": "code",
    "id": "AMAa2dymH7f_"
   },
   "outputs": [],
   "source": [
    "from nltk.tokenize import word_tokenize \n",
    "  \n",
    "text = \"Hello everyone. Welcome to Intro to Machine Learning Applications. We are now learning important basics of NLP.\"\n",
    "word_tokenize(text) \n",
    "\n"
   ]
  },
  {
   "cell_type": "code",
   "execution_count": null,
   "metadata": {
    "colab": {},
    "colab_type": "code",
    "id": "cdYqZcYCINaK"
   },
   "outputs": [],
   "source": [
    "from nltk.tokenize import TreebankWordTokenizer \n",
    "  \n",
    "tokenizer = TreebankWordTokenizer() \n",
    "tokenizer.tokenize(text) \n"
   ]
  },
  {
   "cell_type": "markdown",
   "metadata": {
    "colab_type": "text",
    "id": "5yFvaxNeTc-r"
   },
   "source": [
    "### n-grams vs tokens\n",
    "\n",
    "##### n-grams are contiguous sequences of n-items in a sentence. N can be 1, 2 or any other positive integers, although usually we do not consider very large N because those n-grams rarely appears in many different places.\n",
    "\n",
    "##### Tokens do not have any conditions on contiguity"
   ]
  },
  {
   "cell_type": "code",
   "execution_count": null,
   "metadata": {
    "colab": {},
    "colab_type": "code",
    "id": "x_3jEcxcVbA-"
   },
   "outputs": [],
   "source": [
    "#Using pure python\n",
    "\n",
    "import re\n",
    "\n",
    "def generate_ngrams(text, n):\n",
    "    # Convert to lowercases\n",
    "    text = text.lower()\n",
    "    \n",
    "    # Replace all none alphanumeric characters with spaces\n",
    "    text = re.sub(r'[^a-zA-Z0-9\\s]', ' ', text)\n",
    "    \n",
    "    # Break sentence in the token, remove empty tokens\n",
    "    tokens = [token for token in text.split(\" \") if token != \"\"]\n",
    "    \n",
    "    # Use the zip function to help us generate n-grams\n",
    "    # Concatentate the tokens into ngrams and return\n",
    "    ngrams = zip(*[tokens[i:] for i in range(n)])\n",
    "    return [\" \".join(ngram) for ngram in ngrams]\n",
    "\n",
    "text = \"Hello everyone. Welcome to Intro to Machine Learning Applications. We are now learning important basics of NLP.\"\n",
    "print(text)\n",
    "generate_ngrams(text, n=2)"
   ]
  },
  {
   "cell_type": "code",
   "execution_count": null,
   "metadata": {
    "colab": {},
    "colab_type": "code",
    "id": "wz-Mq1T6YQSW"
   },
   "outputs": [],
   "source": [
    "#Using NLTK import ngrams\n",
    "\n",
    "import re\n",
    "from nltk.util import ngrams\n",
    "\n",
    "text = text.lower()\n",
    "text = re.sub(r'[^a-zA-Z0-9\\s]', ' ', text)\n",
    "tokens = [token for token in text.split(\" \") if token != \"\"]\n",
    "output = list(ngrams(tokens, 3))\n",
    "print(output)"
   ]
  },
  {
   "cell_type": "code",
   "execution_count": null,
   "metadata": {
    "colab": {},
    "colab_type": "code",
    "id": "9BG909xTFbeZ"
   },
   "outputs": [],
   "source": [
    "#Text Normalization\n",
    "\n",
    "#Lowercasing\n",
    "text = \"Hello everyone. Welcome to Intro to Machine Learning Applications. We are now learning important basics of NLP.\"\n",
    "lowert = text.lower()\n",
    "uppert = text.upper()\n",
    "\n",
    "print(lowert)\n",
    "print(uppert)\n"
   ]
  },
  {
   "cell_type": "code",
   "execution_count": null,
   "metadata": {
    "colab": {},
    "colab_type": "code",
    "id": "1JxdoZyaY-iP"
   },
   "outputs": [],
   "source": [
    "#Text Normalization\n",
    "#stemming\n",
    "#Porter stemmer is a famous stemming approach\n",
    "\n",
    "from nltk.stem import PorterStemmer \n",
    "from nltk.tokenize import word_tokenize \n",
    "   \n",
    "ps = PorterStemmer() \n",
    "  \n",
    "# choose some words to be stemmed \n",
    "words = [\"hike\", \"hikes\", \"hiked\", \"hiking\", \"hikers\", \"hiker\"] \n",
    "  \n",
    "for w in words: \n",
    "    print(w, \" : \", ps.stem(w)) \n",
    "\n"
   ]
  },
  {
   "cell_type": "code",
   "execution_count": null,
   "metadata": {
    "colab": {
     "base_uri": "https://localhost:8080/",
     "height": 51
    },
    "colab_type": "code",
    "id": "x6EM6ADdZYbL",
    "outputId": "cc7bc613-7f67-4e02-bbeb-14fb7c5d069c"
   },
   "outputs": [
    {
     "name": "stdout",
     "output_type": "stream",
     "text": [
      "Hello everyone. Welcome to Intro to Machine Learning Applications. We are now learning important basics of NLP.\n",
      "hello everyon welcom to intro to machin learn applic We are now learn import basic of nlp\n"
     ]
    }
   ],
   "source": [
    "from nltk.stem import PorterStemmer \n",
    "from nltk.tokenize import word_tokenize \n",
    "import re\n",
    "   \n",
    "ps = PorterStemmer() \n",
    "text = \"Hello everyone. Welcome to Intro to Machine Learning Applications. We are now learning important basics of NLP.\"\n",
    "print(text)\n",
    "\n",
    "\n",
    "#Tokenize and stem the words\n",
    "text = re.sub(r'[^a-zA-Z0-9\\s]', ' ', text)\n",
    "tokens = [token for token in text.split(\" \") if token != \"\"]\n",
    "\n",
    "i=0\n",
    "while i<len(tokens):\n",
    "  tokens[i]=ps.stem(tokens[i])\n",
    "  i=i+1\n",
    "\n",
    "#merge all the tokens to form a long text sequence \n",
    "text2 = ' '.join(tokens) \n",
    "\n",
    "print(text2)"
   ]
  },
  {
   "cell_type": "code",
   "execution_count": null,
   "metadata": {
    "colab": {
     "base_uri": "https://localhost:8080/",
     "height": 51
    },
    "colab_type": "code",
    "id": "PQg-2u17aWQh",
    "outputId": "00d2b375-c2cf-4b11-ad8f-4bb9043be5fa"
   },
   "outputs": [
    {
     "name": "stdout",
     "output_type": "stream",
     "text": [
      "Hello everyone. Welcome to Intro to Machine Learning Applications. We are now learning important basics of NLP.\n",
      "hello everyon welcom to intro to machin learn applic we are now learn import basic of nlp\n"
     ]
    }
   ],
   "source": [
    "from nltk.stem.snowball import SnowballStemmer\n",
    "from nltk.tokenize import word_tokenize \n",
    "import re\n",
    "   \n",
    "ss = SnowballStemmer(\"english\")\n",
    "text = \"Hello everyone. Welcome to Intro to Machine Learning Applications. We are now learning important basics of NLP.\"\n",
    "print(text)\n",
    "\n",
    "\n",
    "#Tokenize and stem the words\n",
    "text = re.sub(r'[^a-zA-Z0-9\\s]', ' ', text)\n",
    "tokens = [token for token in text.split(\" \") if token != \"\"]\n",
    "\n",
    "i=0\n",
    "while i<len(tokens):\n",
    "  tokens[i]=ss.stem(tokens[i])\n",
    "  i=i+1\n",
    "\n",
    "#merge all the tokens to form a long text sequence \n",
    "text2 = ' '.join(tokens) \n",
    "\n",
    "print(text2)"
   ]
  },
  {
   "cell_type": "code",
   "execution_count": null,
   "metadata": {
    "colab": {},
    "colab_type": "code",
    "id": "DQkySHTBldBj"
   },
   "outputs": [],
   "source": [
    "#Stopwords removal \n",
    "\n",
    "from nltk.corpus import stopwords \n",
    "from nltk.tokenize import word_tokenize \n",
    "\n",
    "text = \"Hello everyone. Welcome to Intro to Machine Learning Applications. We are now learning important basics of NLP.\"\n",
    "\n",
    "stop_words = set(stopwords.words('english')) \n",
    "word_tokens = word_tokenize(text) \n",
    "  \n",
    "filtered_sentence = [w for w in word_tokens if not w in stop_words] \n",
    "  \n",
    "filtered_sentence = [] \n",
    "  \n",
    "for w in word_tokens: \n",
    "    if w not in stop_words: \n",
    "        filtered_sentence.append(w) \n",
    "  \n",
    "print(word_tokens) \n",
    "print(filtered_sentence) \n",
    "\n",
    "text2 = ' '.join(filtered_sentence)"
   ]
  },
  {
   "cell_type": "code",
   "execution_count": null,
   "metadata": {
    "colab": {
     "base_uri": "https://localhost:8080/",
     "height": 54
    },
    "colab_type": "code",
    "id": "ejWwVdZebHlA",
    "outputId": "a90010e5-7deb-4f1e-9ea1-03b5e0f0da44"
   },
   "outputs": [
    {
     "name": "stdout",
     "output_type": "stream",
     "text": [
      "[('GitHub', 'NNP'), ('is', 'VBZ'), ('a', 'DT'), ('development', 'NN'), ('platform', 'NN'), ('inspired', 'VBN'), ('by', 'IN'), ('the', 'DT'), ('way', 'NN'), ('you', 'PRP'), ('work', 'VBP'), ('.', '.'), ('From', 'IN'), ('open', 'JJ'), ('source', 'NN'), ('to', 'TO'), ('business', 'NN'), (',', ','), ('you', 'PRP'), ('can', 'MD'), ('host', 'VB'), ('and', 'CC'), ('review', 'VB'), ('code', 'NN'), (',', ','), ('manage', 'NN'), ('projects', 'NNS'), (',', ','), ('and', 'CC'), ('build', 'VB'), ('software', 'NN'), ('alongside', 'RB'), ('40', 'CD'), ('million', 'CD'), ('developers', 'NNS'), ('.', '.')]\n"
     ]
    }
   ],
   "source": [
    "#Part-of-Speech tagging\n",
    "\n",
    "import nltk\n",
    "from nltk.tokenize import word_tokenize\n",
    "from nltk.tag import pos_tag\n",
    "\n",
    "text = 'GitHub is a development platform inspired by the way you work. From open source to business, you can host and review code, manage projects, and build software alongside 40 million developers.'\n",
    "\n",
    "def preprocess(sent):\n",
    "    sent = nltk.word_tokenize(sent)\n",
    "    sent = nltk.pos_tag(sent)\n",
    "    return sent\n",
    "\n",
    "sent = preprocess(text)\n",
    "print(sent)\n"
   ]
  },
  {
   "cell_type": "code",
   "execution_count": null,
   "metadata": {
    "colab": {},
    "colab_type": "code",
    "id": "8nQvO9BTFdGh"
   },
   "outputs": [],
   "source": [
    "#Named entity recognition\n",
    "\n",
    "#spaCy is an NLP Framework -- easy to use and having ability to use neural networks\n",
    "\n",
    "import en_core_web_sm\n",
    "nlp = en_core_web_sm.load()\n",
    "\n",
    "text = 'GitHub is a development platform inspired by the way you work. From open source to business, you can host and review code, manage projects, and build software alongside 40 million developers.'\n",
    "\n",
    "doc = nlp(text)\n",
    "print(doc.ents)\n",
    "print([(X.text, X.label_) for X in doc.ents])"
   ]
  },
  {
   "cell_type": "code",
   "execution_count": null,
   "metadata": {
    "colab": {},
    "colab_type": "code",
    "id": "Hg-BTKVxFgSP"
   },
   "outputs": [],
   "source": [
    "#Sentiment analysis"
   ]
  },
  {
   "cell_type": "code",
   "execution_count": null,
   "metadata": {
    "colab": {},
    "colab_type": "code",
    "id": "_FcpVeeZFiA4"
   },
   "outputs": [],
   "source": [
    "#Topic modeling"
   ]
  },
  {
   "cell_type": "code",
   "execution_count": null,
   "metadata": {
    "colab": {},
    "colab_type": "code",
    "id": "b0-mQ_AMFlmn"
   },
   "outputs": [],
   "source": [
    "#Word embeddings\n"
   ]
  },
  {
   "cell_type": "markdown",
   "metadata": {
    "colab_type": "text",
    "id": "bQ5DZ_ZkI74h"
   },
   "source": [
    "#Class exercise\n",
    "\n",
    "#### 1. Read a file from its URL \n",
    "#### 2. Extract the text and tokenize it meaningfully into words. \n",
    "#### 3. Print the entire text combined after tokenization. \n",
    "#### 4. Perform stemming using both porter and snowball stemmers. Which one works the best? Why? \n",
    "#### 5. Remove stopwords\n",
    "#### 6. Identify the top-10 unigrams based on their frequency.\n"
   ]
  },
  {
   "cell_type": "code",
   "execution_count": null,
   "metadata": {
    "colab": {
     "base_uri": "https://localhost:8080/",
     "height": 357
    },
    "colab_type": "code",
    "id": "uHvXv_uILCvo",
    "outputId": "7cea77c0-e3df-41dc-c096-ded7a065d5f9"
   },
   "outputs": [
    {
     "name": "stdout",
     "output_type": "stream",
     "text": [
      "--2019-11-04 17:16:22--  https://www.dropbox.com/s/o8lxi6yrezmt5em/reviews.txt\n",
      "Resolving www.dropbox.com (www.dropbox.com)... 162.125.9.1, 2620:100:601b:1::a27d:801\n",
      "Connecting to www.dropbox.com (www.dropbox.com)|162.125.9.1|:443... connected.\n",
      "HTTP request sent, awaiting response... 301 Moved Permanently\n",
      "Location: /s/raw/o8lxi6yrezmt5em/reviews.txt [following]\n",
      "--2019-11-04 17:16:23--  https://www.dropbox.com/s/raw/o8lxi6yrezmt5em/reviews.txt\n",
      "Reusing existing connection to www.dropbox.com:443.\n",
      "HTTP request sent, awaiting response... 302 Found\n",
      "Location: https://ucb753980f94c903b140fb69cb47.dl.dropboxusercontent.com/cd/0/inline/AruGnazr2R1e797TKXdu6chwkg102fB893qSsoT5EeI2_mAFsj2rCinxKGPdm-HpQjOZqWQ21tvsPDpyA7PBxc7QxoDCWKG45GDwN1gZw3C7RlMLoxb8D9NG9IqmJ25IXJc/file# [following]\n",
      "--2019-11-04 17:16:23--  https://ucb753980f94c903b140fb69cb47.dl.dropboxusercontent.com/cd/0/inline/AruGnazr2R1e797TKXdu6chwkg102fB893qSsoT5EeI2_mAFsj2rCinxKGPdm-HpQjOZqWQ21tvsPDpyA7PBxc7QxoDCWKG45GDwN1gZw3C7RlMLoxb8D9NG9IqmJ25IXJc/file\n",
      "Resolving ucb753980f94c903b140fb69cb47.dl.dropboxusercontent.com (ucb753980f94c903b140fb69cb47.dl.dropboxusercontent.com)... 162.125.9.6, 2620:100:601f:6::a27d:906\n",
      "Connecting to ucb753980f94c903b140fb69cb47.dl.dropboxusercontent.com (ucb753980f94c903b140fb69cb47.dl.dropboxusercontent.com)|162.125.9.6|:443... connected.\n",
      "HTTP request sent, awaiting response... 200 OK\n",
      "Length: 3851 (3.8K) [text/plain]\n",
      "Saving to: ‘reviews.txt’\n",
      "\n",
      "reviews.txt         100%[===================>]   3.76K  --.-KB/s    in 0s      \n",
      "\n",
      "2019-11-04 17:16:24 (328 MB/s) - ‘reviews.txt’ saved [3851/3851]\n",
      "\n"
     ]
    }
   ],
   "source": [
    "\n",
    "#Load the file first\n",
    "!wget https://www.dropbox.com/s/o8lxi6yrezmt5em/reviews.txt\n"
   ]
  }
 ],
 "metadata": {
  "colab": {
   "collapsed_sections": [],
   "name": "Lecture20.ipynb",
   "provenance": []
  },
  "kernelspec": {
   "display_name": "Python 3",
   "language": "python",
   "name": "python3"
  },
  "language_info": {
   "codemirror_mode": {
    "name": "ipython",
    "version": 3
   },
   "file_extension": ".py",
   "mimetype": "text/x-python",
   "name": "python",
   "nbconvert_exporter": "python",
   "pygments_lexer": "ipython3",
   "version": "3.7.6"
  }
 },
 "nbformat": 4,
 "nbformat_minor": 4
}
