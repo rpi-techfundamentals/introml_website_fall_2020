{
 "cells": [
  {
   "cell_type": "markdown",
   "metadata": {},
   "source": [
    "# Tensorflow Introduction\n",
    "\n",
    "There are a number of really good Tensorflow tutorials. \n",
    "\n",
    "[https://www.tensorflow.org/tutorials/](https://www.tensorflow.org/tutorials/)\n",
    "\n",
    "1. [Tensors](https://www.tensorflow.org/tutorials/customization/basics)\n",
    "\n",
    "2. [Titanic with Linear Models](https://www.tensorflow.org/tutorials/estimator/linear)\n",
    "\n",
    "3. [Titanic with Boosted Trees](https://www.tensorflow.org/tutorials/estimator/boosted_trees)\n",
    "\n",
    "4. [Regression with Tensorflow](https://www.tensorflow.org/tutorials/keras/regression)"
   ]
  },
  {
   "cell_type": "markdown",
   "metadata": {},
   "source": [
    "# Tensorflow Tabular Data\n",
    "\n",
    "1. [Feature Columns](https://www.tensorflow.org/tutorials/structured_data/feature_columns)\n",
    "\n",
    "2. [Preprocessing Layers](https://www.tensorflow.org/tutorials/structured_data/preprocessing_layers)\n",
    "\n",
    "\n",
    "\n"
   ]
  },
  {
   "cell_type": "markdown",
   "metadata": {},
   "source": [
    "# Tensorflow NLP\n",
    "\n",
    "1. "
   ]
  }
 ],
 "metadata": {
  "kernelspec": {
   "display_name": "Python 3",
   "language": "python",
   "name": "python3"
  },
  "language_info": {
   "codemirror_mode": {
    "name": "ipython",
    "version": 3
   },
   "file_extension": ".py",
   "mimetype": "text/x-python",
   "name": "python",
   "nbconvert_exporter": "python",
   "pygments_lexer": "ipython3",
   "version": "3.7.6"
  }
 },
 "nbformat": 4,
 "nbformat_minor": 4
}
